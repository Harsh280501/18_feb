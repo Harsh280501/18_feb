{
 "cells": [
  {
   "cell_type": "markdown",
   "id": "7042e884-0ae5-49e4-ad7f-99649379e566",
   "metadata": {},
   "source": [
    "Q1. What is an API? Give an example, where an API is used in real life."
   ]
  },
  {
   "cell_type": "markdown",
   "id": "72bbf933-ba39-49ad-a777-b1202d9bf8ba",
   "metadata": {},
   "source": [
    "API stands for application programming interface whihch is used as an intermediate to connect between two different systems and help them to \n",
    "communicate between them.\n",
    "\n",
    "Nowadays the API's are used in every place and one of the example of API are the login credantials of the gmail id that are utilized by various applications and websites. \n"
   ]
  },
  {
   "cell_type": "markdown",
   "id": "e504eda4-b7bf-4197-8d0f-45ef11d8e476",
   "metadata": {},
   "source": [
    "Q2. Give advantages and disadvantages of using API.\n",
    "\n"
   ]
  },
  {
   "cell_type": "markdown",
   "id": "b548748e-9e43-43e2-8621-7d19c82ba2e1",
   "metadata": {},
   "source": [
    "Advantages\n",
    "\n",
    "APIs bring a new level of modularity to applications. APIs allow developers to leverage the expertise of other applications. When an organization develops an application, they no longer need to reinvent the wheel when it comes to things like authentication, communication, payment processing, and maps.\n",
    "\n",
    "Instead developers can leverage the seamless plug in capabilities and functionality of APIs. APIs allow applications and system components to communicate with each other on internal networks as well as over the Internet.\n",
    "\n",
    "They’ve become integral to enterprise efforts to make internal applications and services accessible over the Internet to business customers, partners, suppliers, and other third parties.\n",
    "\n",
    "Disadvantages\n",
    "\n",
    "There is a lot of conveniences and advantages to APIs, but business leaders should also be aware of the disadvantages. As a single point of entry, an API is a gateway and can become a hacker's primary target. Once the API is compromised, all other applications and systems become vulnerable.\n",
    "\n"
   ]
  },
  {
   "cell_type": "markdown",
   "id": "d13a06b5-f135-4327-9a33-8ed261dfaab1",
   "metadata": {},
   "source": [
    "Q3. What is a Web API? Differentiate between API and Web API.\n"
   ]
  },
  {
   "cell_type": "markdown",
   "id": "ce9abb3e-606a-4522-b5d4-7a21489ed00e",
   "metadata": {},
   "source": [
    "Web API are the API that are used by various websites that follows HTTPS protocal and try to establish communication between different systems on web.\n",
    "Whereas, the API is used to provide an interface between mobile application as well"
   ]
  },
  {
   "cell_type": "markdown",
   "id": "d1f700ce-60e3-4570-aea1-af14708b1adc",
   "metadata": {},
   "source": [
    "\n",
    "Q4. Explain REST and SOAP Architecture. Mention shortcomings of SOAP.\n"
   ]
  },
  {
   "cell_type": "markdown",
   "id": "e7a4a214-3045-46ee-9904-08d8f2405686",
   "metadata": {},
   "source": [
    "SOAP\n",
    "\n",
    "SOAP stands for Simple Object Access Protocol is a network platform used in a web service to exchange or communicate data between two different machines on a network. It uses the XML format of data to transfer messages over the HTTP protocol. \n",
    "\n",
    "Disadvantages of SOAP\n",
    "\n",
    "SOAP is used only XML format data in web service, whereas JSON and other lightweight formats are not supported by it.\n",
    "\n",
    "It is slow because it uses XML format, whereas the payload for a simple string message is large.\n",
    "\n",
    "There are no security features in the SOAP specification.\n",
    "\n",
    "There is no state reference for the remote object in the SOAP client.\n",
    "\n",
    "\n",
    "REST\n",
    "\n",
    "REST stands for Representational State Transfer. It is an architectural style that provides standards between computer systems on a web service. It is a set of constraints used to create a lightweight, scalable, and maintainable web service that facilitates easy communication\n",
    "\n",
    "\n"
   ]
  },
  {
   "cell_type": "markdown",
   "id": "c7f1d32c-4e52-4940-b696-509b226f814b",
   "metadata": {},
   "source": [
    "\n",
    "Q5. Differentiate between REST and SOAP."
   ]
  },
  {
   "cell_type": "markdown",
   "id": "ecfcc8e2-c3e0-459f-b642-8768c515ad30",
   "metadata": {},
   "source": [
    "SOAP\n",
    "\n",
    "It stands for Simple Object Access Protocol.\t.\n",
    "\n",
    "It is XML based messaging protocol.\n",
    "\n",
    "It needs more bandwidth and resources for better web performance.\n",
    "\n",
    "SOAP enforces XML as a message format.\n",
    "\n",
    "It has not great performance as compared to REST.\n",
    "\n",
    "SOAP defines its security."
   ]
  },
  {
   "cell_type": "markdown",
   "id": "4d387524-3dfc-4c35-a855-c52a0d254e04",
   "metadata": {},
   "source": [
    "REST\n",
    "\n",
    "It stands for REpresentational State Transfer.\n",
    "\n",
    "It is not a protocol. It is an architectural style for distributed hypermedia system.\n",
    "\n",
    "REST requires less bandwidth and resources as compared to SOAP.\n",
    "\n",
    "It is not specifically applied that the message format must be XML or JSON, etc.\n",
    "\n",
    "It has better performance as compared to SOAP, less CPU intensive, lesser code, etc.\n",
    "\n",
    "REST inherits security measures from the underlying transport."
   ]
  },
  {
   "cell_type": "code",
   "execution_count": null,
   "id": "36583ea4-78e4-4a3d-9e39-bba3aea1118c",
   "metadata": {},
   "outputs": [],
   "source": []
  }
 ],
 "metadata": {
  "kernelspec": {
   "display_name": "Python 3 (ipykernel)",
   "language": "python",
   "name": "python3"
  },
  "language_info": {
   "codemirror_mode": {
    "name": "ipython",
    "version": 3
   },
   "file_extension": ".py",
   "mimetype": "text/x-python",
   "name": "python",
   "nbconvert_exporter": "python",
   "pygments_lexer": "ipython3",
   "version": "3.10.8"
  }
 },
 "nbformat": 4,
 "nbformat_minor": 5
}
